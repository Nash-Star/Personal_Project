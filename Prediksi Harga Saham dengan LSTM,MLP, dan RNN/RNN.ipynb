{
 "cells": [
  {
   "cell_type": "code",
   "execution_count": 1,
   "metadata": {},
   "outputs": [],
   "source": [
    "import numpy as np\n",
    "import pandas as pd\n",
    "from numpy import *\n",
    "from numpy.random import *\n",
    "import matplotlib.pyplot as plt\n",
    "from datetime import datetime\n",
    "import pickle\n",
    "import copy\n",
    "\n",
    "%matplotlib inline\n",
    "\n",
    "import warnings\n",
    "warnings.filterwarnings(\"ignore\")"
   ]
  },
  {
   "cell_type": "code",
   "execution_count": 2,
   "metadata": {},
   "outputs": [
    {
     "data": {
      "text/html": [
       "<div>\n",
       "<style scoped>\n",
       "    .dataframe tbody tr th:only-of-type {\n",
       "        vertical-align: middle;\n",
       "    }\n",
       "\n",
       "    .dataframe tbody tr th {\n",
       "        vertical-align: top;\n",
       "    }\n",
       "\n",
       "    .dataframe thead th {\n",
       "        text-align: right;\n",
       "    }\n",
       "</style>\n",
       "<table border=\"1\" class=\"dataframe\">\n",
       "  <thead>\n",
       "    <tr style=\"text-align: right;\">\n",
       "      <th></th>\n",
       "      <th>0</th>\n",
       "    </tr>\n",
       "  </thead>\n",
       "  <tbody>\n",
       "    <tr>\n",
       "      <td>0</td>\n",
       "      <td>130.883893</td>\n",
       "    </tr>\n",
       "    <tr>\n",
       "      <td>1</td>\n",
       "      <td>131.079758</td>\n",
       "    </tr>\n",
       "    <tr>\n",
       "      <td>2</td>\n",
       "      <td>131.437295</td>\n",
       "    </tr>\n",
       "    <tr>\n",
       "      <td>3</td>\n",
       "      <td>129.094033</td>\n",
       "    </tr>\n",
       "    <tr>\n",
       "      <td>4</td>\n",
       "      <td>128.009200</td>\n",
       "    </tr>\n",
       "  </tbody>\n",
       "</table>\n",
       "</div>"
      ],
      "text/plain": [
       "            0\n",
       "0  130.883893\n",
       "1  131.079758\n",
       "2  131.437295\n",
       "3  129.094033\n",
       "4  128.009200"
      ]
     },
     "execution_count": 2,
     "metadata": {},
     "output_type": "execute_result"
    }
   ],
   "source": [
    "# load dataset\n",
    "x = pickle.load(open(\"HargaSaham.dat\", \"rb\"))   # data harga saham sebanyak 250 observasi.\n",
    "N = x.shape[0]\n",
    "\n",
    "pd.DataFrame(x).head()"
   ]
  },
  {
   "cell_type": "code",
   "execution_count": 3,
   "metadata": {},
   "outputs": [
    {
     "data": {
      "text/html": [
       "<div>\n",
       "<style scoped>\n",
       "    .dataframe tbody tr th:only-of-type {\n",
       "        vertical-align: middle;\n",
       "    }\n",
       "\n",
       "    .dataframe tbody tr th {\n",
       "        vertical-align: top;\n",
       "    }\n",
       "\n",
       "    .dataframe thead th {\n",
       "        text-align: right;\n",
       "    }\n",
       "</style>\n",
       "<table border=\"1\" class=\"dataframe\">\n",
       "  <thead>\n",
       "    <tr style=\"text-align: right;\">\n",
       "      <th></th>\n",
       "      <th>0</th>\n",
       "    </tr>\n",
       "  </thead>\n",
       "  <tbody>\n",
       "    <tr>\n",
       "      <td>count</td>\n",
       "      <td>250.000000</td>\n",
       "    </tr>\n",
       "    <tr>\n",
       "      <td>mean</td>\n",
       "      <td>129.893804</td>\n",
       "    </tr>\n",
       "    <tr>\n",
       "      <td>std</td>\n",
       "      <td>4.141466</td>\n",
       "    </tr>\n",
       "    <tr>\n",
       "      <td>min</td>\n",
       "      <td>120.302504</td>\n",
       "    </tr>\n",
       "    <tr>\n",
       "      <td>25%</td>\n",
       "      <td>126.764918</td>\n",
       "    </tr>\n",
       "    <tr>\n",
       "      <td>50%</td>\n",
       "      <td>129.791001</td>\n",
       "    </tr>\n",
       "    <tr>\n",
       "      <td>75%</td>\n",
       "      <td>132.864101</td>\n",
       "    </tr>\n",
       "    <tr>\n",
       "      <td>max</td>\n",
       "      <td>139.100095</td>\n",
       "    </tr>\n",
       "  </tbody>\n",
       "</table>\n",
       "</div>"
      ],
      "text/plain": [
       "                0\n",
       "count  250.000000\n",
       "mean   129.893804\n",
       "std      4.141466\n",
       "min    120.302504\n",
       "25%    126.764918\n",
       "50%    129.791001\n",
       "75%    132.864101\n",
       "max    139.100095"
      ]
     },
     "execution_count": 3,
     "metadata": {},
     "output_type": "execute_result"
    }
   ],
   "source": [
    "pd.DataFrame(x).describe()"
   ]
  },
  {
   "cell_type": "code",
   "execution_count": 4,
   "metadata": {},
   "outputs": [
    {
     "data": {
      "image/png": "[encoded data removed]",
      "text/plain": [
       "<Figure size 648x432 with 1 Axes>"
      ]
     },
     "metadata": {
      "needs_background": "light"
     },
     "output_type": "display_data"
    }
   ],
   "source": [
    "# Plot data\n",
    "plt.figure(figsize=(9,6))\n",
    "plt.plot(x)\n",
    "plt.title(\"Data Harga Saham\")\n",
    "plt.show()"
   ]
  },
  {
   "cell_type": "code",
   "execution_count": 5,
   "metadata": {},
   "outputs": [
    {
     "data": {
      "text/plain": [
       "(248, 2)"
      ]
     },
     "execution_count": 5,
     "metadata": {},
     "output_type": "execute_result"
    }
   ],
   "source": [
    "# Standarisasi\n",
    "xs = (x-x.min())/(x.max()-x.min())   # Standarisasi data\n",
    "\n",
    "step = 2   # step atau lag data diwaktu sebelumnya sebagai input\n",
    "xt = xs[0:N-step,:]\n",
    "for i in range(step):\n",
    "    xt = hstack((xt, xs[i+1:N-step+i+1]))   # Dihasilkan matriks dengan (n_step+1) kolom, #n_step kolom pertama\n",
    "                                            #menjadi variabel X dan kolom terkhir menjadi variabel y\n",
    "\n",
    "# membagi data input-output\n",
    "X = xt[:, 0:step]       #Tiga kolom pertama dijadikan sebagai varibel X\n",
    "y = xt[:, step:step+1]  #Kolom terakhir dijadikan sebagai variabel y\n",
    "\n",
    "X.shape        "
   ]
  },
  {
   "cell_type": "code",
   "execution_count": null,
   "metadata": {},
   "outputs": [],
   "source": []
  },
  {
   "cell_type": "code",
   "execution_count": 6,
   "metadata": {},
   "outputs": [
    {
     "data": {
      "text/html": [
       "<div>\n",
       "<style scoped>\n",
       "    .dataframe tbody tr th:only-of-type {\n",
       "        vertical-align: middle;\n",
       "    }\n",
       "\n",
       "    .dataframe tbody tr th {\n",
       "        vertical-align: top;\n",
       "    }\n",
       "\n",
       "    .dataframe thead th {\n",
       "        text-align: right;\n",
       "    }\n",
       "</style>\n",
       "<table border=\"1\" class=\"dataframe\">\n",
       "  <thead>\n",
       "    <tr style=\"text-align: right;\">\n",
       "      <th></th>\n",
       "      <th>t-1</th>\n",
       "      <th>t</th>\n",
       "      <th>t+1</th>\n",
       "    </tr>\n",
       "  </thead>\n",
       "  <tbody>\n",
       "    <tr>\n",
       "      <td>0</td>\n",
       "      <td>0.562912</td>\n",
       "      <td>0.573332</td>\n",
       "      <td>0.592352</td>\n",
       "    </tr>\n",
       "    <tr>\n",
       "      <td>1</td>\n",
       "      <td>0.573332</td>\n",
       "      <td>0.592352</td>\n",
       "      <td>0.467694</td>\n",
       "    </tr>\n",
       "    <tr>\n",
       "      <td>2</td>\n",
       "      <td>0.592352</td>\n",
       "      <td>0.467694</td>\n",
       "      <td>0.409983</td>\n",
       "    </tr>\n",
       "    <tr>\n",
       "      <td>3</td>\n",
       "      <td>0.467694</td>\n",
       "      <td>0.409983</td>\n",
       "      <td>0.439758</td>\n",
       "    </tr>\n",
       "    <tr>\n",
       "      <td>4</td>\n",
       "      <td>0.409983</td>\n",
       "      <td>0.439758</td>\n",
       "      <td>0.489736</td>\n",
       "    </tr>\n",
       "  </tbody>\n",
       "</table>\n",
       "</div>"
      ],
      "text/plain": [
       "        t-1         t       t+1\n",
       "0  0.562912  0.573332  0.592352\n",
       "1  0.573332  0.592352  0.467694\n",
       "2  0.592352  0.467694  0.409983\n",
       "3  0.467694  0.409983  0.439758\n",
       "4  0.409983  0.439758  0.489736"
      ]
     },
     "execution_count": 6,
     "metadata": {},
     "output_type": "execute_result"
    }
   ],
   "source": [
    "# Menjadikan dataframe\n",
    "dfx = pd.DataFrame(X, columns=['t-1','t'])\n",
    "dfy = pd.DataFrame(y, columns=['t+1'])\n",
    "df = pd. concat([dfx,dfy], axis=1, sort=True)\n",
    "df.head()"
   ]
  },
  {
   "cell_type": "code",
   "execution_count": 7,
   "metadata": {},
   "outputs": [
    {
     "data": {
      "text/html": [
       "<div>\n",
       "<style scoped>\n",
       "    .dataframe tbody tr th:only-of-type {\n",
       "        vertical-align: middle;\n",
       "    }\n",
       "\n",
       "    .dataframe tbody tr th {\n",
       "        vertical-align: top;\n",
       "    }\n",
       "\n",
       "    .dataframe thead th {\n",
       "        text-align: right;\n",
       "    }\n",
       "</style>\n",
       "<table border=\"1\" class=\"dataframe\">\n",
       "  <thead>\n",
       "    <tr style=\"text-align: right;\">\n",
       "      <th></th>\n",
       "      <th>t-1</th>\n",
       "      <th>t</th>\n",
       "      <th>t+1</th>\n",
       "      <th>rm3</th>\n",
       "      <th>rm7</th>\n",
       "    </tr>\n",
       "  </thead>\n",
       "  <tbody>\n",
       "    <tr>\n",
       "      <td>0</td>\n",
       "      <td>0.562912</td>\n",
       "      <td>0.573332</td>\n",
       "      <td>0.592352</td>\n",
       "      <td>NaN</td>\n",
       "      <td>NaN</td>\n",
       "    </tr>\n",
       "    <tr>\n",
       "      <td>1</td>\n",
       "      <td>0.573332</td>\n",
       "      <td>0.592352</td>\n",
       "      <td>0.467694</td>\n",
       "      <td>NaN</td>\n",
       "      <td>NaN</td>\n",
       "    </tr>\n",
       "    <tr>\n",
       "      <td>2</td>\n",
       "      <td>0.592352</td>\n",
       "      <td>0.467694</td>\n",
       "      <td>0.409983</td>\n",
       "      <td>0.490010</td>\n",
       "      <td>NaN</td>\n",
       "    </tr>\n",
       "    <tr>\n",
       "      <td>3</td>\n",
       "      <td>0.467694</td>\n",
       "      <td>0.409983</td>\n",
       "      <td>0.439758</td>\n",
       "      <td>0.439145</td>\n",
       "      <td>NaN</td>\n",
       "    </tr>\n",
       "    <tr>\n",
       "      <td>4</td>\n",
       "      <td>0.409983</td>\n",
       "      <td>0.439758</td>\n",
       "      <td>0.489736</td>\n",
       "      <td>0.446493</td>\n",
       "      <td>NaN</td>\n",
       "    </tr>\n",
       "    <tr>\n",
       "      <td>5</td>\n",
       "      <td>0.439758</td>\n",
       "      <td>0.489736</td>\n",
       "      <td>0.437683</td>\n",
       "      <td>0.455726</td>\n",
       "      <td>NaN</td>\n",
       "    </tr>\n",
       "    <tr>\n",
       "      <td>6</td>\n",
       "      <td>0.489736</td>\n",
       "      <td>0.437683</td>\n",
       "      <td>0.464447</td>\n",
       "      <td>0.463955</td>\n",
       "      <td>0.471665</td>\n",
       "    </tr>\n",
       "    <tr>\n",
       "      <td>7</td>\n",
       "      <td>0.437683</td>\n",
       "      <td>0.464447</td>\n",
       "      <td>0.486067</td>\n",
       "      <td>0.462732</td>\n",
       "      <td>0.456481</td>\n",
       "    </tr>\n",
       "    <tr>\n",
       "      <td>8</td>\n",
       "      <td>0.464447</td>\n",
       "      <td>0.486067</td>\n",
       "      <td>0.503275</td>\n",
       "      <td>0.484596</td>\n",
       "      <td>0.461564</td>\n",
       "    </tr>\n",
       "    <tr>\n",
       "      <td>9</td>\n",
       "      <td>0.486067</td>\n",
       "      <td>0.503275</td>\n",
       "      <td>0.477026</td>\n",
       "      <td>0.488789</td>\n",
       "      <td>0.471142</td>\n",
       "    </tr>\n",
       "  </tbody>\n",
       "</table>\n",
       "</div>"
      ],
      "text/plain": [
       "        t-1         t       t+1       rm3       rm7\n",
       "0  0.562912  0.573332  0.592352       NaN       NaN\n",
       "1  0.573332  0.592352  0.467694       NaN       NaN\n",
       "2  0.592352  0.467694  0.409983  0.490010       NaN\n",
       "3  0.467694  0.409983  0.439758  0.439145       NaN\n",
       "4  0.409983  0.439758  0.489736  0.446493       NaN\n",
       "5  0.439758  0.489736  0.437683  0.455726       NaN\n",
       "6  0.489736  0.437683  0.464447  0.463955  0.471665\n",
       "7  0.437683  0.464447  0.486067  0.462732  0.456481\n",
       "8  0.464447  0.486067  0.503275  0.484596  0.461564\n",
       "9  0.486067  0.503275  0.477026  0.488789  0.471142"
      ]
     },
     "execution_count": 7,
     "metadata": {},
     "output_type": "execute_result"
    }
   ],
   "source": [
    "# menambahkan rolling mean\n",
    "df['rm3'] = df['t+1'].rolling(window=3).mean() #pd.DataFrame(xs).rolling(window=3).mean()\n",
    "df['rm7'] = df['t+1'].rolling(window=7).mean() #pd.DataFrame(xs).rolling(window=9).mean()\n",
    "#df['rm18'] = pd.DataFrame(xs).rolling(window=18).mean()\n",
    "#df['rm6'] = pd.DataFrame(xs).rolling(window=6).mean()\n",
    "\n",
    "df.head(10)"
   ]
  },
  {
   "cell_type": "code",
   "execution_count": 8,
   "metadata": {},
   "outputs": [
    {
     "data": {
      "text/html": [
       "<div>\n",
       "<style scoped>\n",
       "    .dataframe tbody tr th:only-of-type {\n",
       "        vertical-align: middle;\n",
       "    }\n",
       "\n",
       "    .dataframe tbody tr th {\n",
       "        vertical-align: top;\n",
       "    }\n",
       "\n",
       "    .dataframe thead th {\n",
       "        text-align: right;\n",
       "    }\n",
       "</style>\n",
       "<table border=\"1\" class=\"dataframe\">\n",
       "  <thead>\n",
       "    <tr style=\"text-align: right;\">\n",
       "      <th></th>\n",
       "      <th>t-1</th>\n",
       "      <th>t</th>\n",
       "      <th>t+1</th>\n",
       "      <th>rm3</th>\n",
       "      <th>rm7</th>\n",
       "    </tr>\n",
       "  </thead>\n",
       "  <tbody>\n",
       "    <tr>\n",
       "      <td>6</td>\n",
       "      <td>0.489736</td>\n",
       "      <td>0.437683</td>\n",
       "      <td>0.464447</td>\n",
       "      <td>0.463955</td>\n",
       "      <td>0.471665</td>\n",
       "    </tr>\n",
       "    <tr>\n",
       "      <td>7</td>\n",
       "      <td>0.437683</td>\n",
       "      <td>0.464447</td>\n",
       "      <td>0.486067</td>\n",
       "      <td>0.462732</td>\n",
       "      <td>0.456481</td>\n",
       "    </tr>\n",
       "    <tr>\n",
       "      <td>8</td>\n",
       "      <td>0.464447</td>\n",
       "      <td>0.486067</td>\n",
       "      <td>0.503275</td>\n",
       "      <td>0.484596</td>\n",
       "      <td>0.461564</td>\n",
       "    </tr>\n",
       "    <tr>\n",
       "      <td>9</td>\n",
       "      <td>0.486067</td>\n",
       "      <td>0.503275</td>\n",
       "      <td>0.477026</td>\n",
       "      <td>0.488789</td>\n",
       "      <td>0.471142</td>\n",
       "    </tr>\n",
       "    <tr>\n",
       "      <td>10</td>\n",
       "      <td>0.503275</td>\n",
       "      <td>0.477026</td>\n",
       "      <td>0.434892</td>\n",
       "      <td>0.471731</td>\n",
       "      <td>0.470447</td>\n",
       "    </tr>\n",
       "    <tr>\n",
       "      <td>11</td>\n",
       "      <td>0.477026</td>\n",
       "      <td>0.434892</td>\n",
       "      <td>0.390080</td>\n",
       "      <td>0.433999</td>\n",
       "      <td>0.456210</td>\n",
       "    </tr>\n",
       "    <tr>\n",
       "      <td>12</td>\n",
       "      <td>0.434892</td>\n",
       "      <td>0.390080</td>\n",
       "      <td>0.322012</td>\n",
       "      <td>0.382328</td>\n",
       "      <td>0.439686</td>\n",
       "    </tr>\n",
       "    <tr>\n",
       "      <td>13</td>\n",
       "      <td>0.390080</td>\n",
       "      <td>0.322012</td>\n",
       "      <td>0.335084</td>\n",
       "      <td>0.349059</td>\n",
       "      <td>0.421205</td>\n",
       "    </tr>\n",
       "    <tr>\n",
       "      <td>14</td>\n",
       "      <td>0.322012</td>\n",
       "      <td>0.335084</td>\n",
       "      <td>0.332733</td>\n",
       "      <td>0.329943</td>\n",
       "      <td>0.399300</td>\n",
       "    </tr>\n",
       "    <tr>\n",
       "      <td>15</td>\n",
       "      <td>0.335084</td>\n",
       "      <td>0.332733</td>\n",
       "      <td>0.416128</td>\n",
       "      <td>0.361315</td>\n",
       "      <td>0.386851</td>\n",
       "    </tr>\n",
       "  </tbody>\n",
       "</table>\n",
       "</div>"
      ],
      "text/plain": [
       "         t-1         t       t+1       rm3       rm7\n",
       "6   0.489736  0.437683  0.464447  0.463955  0.471665\n",
       "7   0.437683  0.464447  0.486067  0.462732  0.456481\n",
       "8   0.464447  0.486067  0.503275  0.484596  0.461564\n",
       "9   0.486067  0.503275  0.477026  0.488789  0.471142\n",
       "10  0.503275  0.477026  0.434892  0.471731  0.470447\n",
       "11  0.477026  0.434892  0.390080  0.433999  0.456210\n",
       "12  0.434892  0.390080  0.322012  0.382328  0.439686\n",
       "13  0.390080  0.322012  0.335084  0.349059  0.421205\n",
       "14  0.322012  0.335084  0.332733  0.329943  0.399300\n",
       "15  0.335084  0.332733  0.416128  0.361315  0.386851"
      ]
     },
     "execution_count": 8,
     "metadata": {},
     "output_type": "execute_result"
    }
   ],
   "source": [
    "# menghilangkan baris yang mengandung NaN dari dataframe\n",
    "df.dropna(inplace=True)\n",
    "df.head(10)"
   ]
  },
  {
   "cell_type": "code",
   "execution_count": 9,
   "metadata": {},
   "outputs": [
    {
     "data": {
      "text/plain": [
       "<matplotlib.legend.Legend at 0x908d550>"
      ]
     },
     "execution_count": 9,
     "metadata": {},
     "output_type": "execute_result"
    },
    {
     "data": {
      "image/png": "[encoded data removed]",
      "text/plain": [
       "<Figure size 432x288 with 1 Axes>"
      ]
     },
     "metadata": {
      "needs_background": "light"
     },
     "output_type": "display_data"
    }
   ],
   "source": [
    "df.plot()\n",
    "plt.legend(loc='best')"
   ]
  },
  {
   "cell_type": "code",
   "execution_count": 10,
   "metadata": {},
   "outputs": [
    {
     "name": "stdout",
     "output_type": "stream",
     "text": [
      "Data train =  (218, 5)\n",
      "Data test =  (24, 5)\n"
     ]
    }
   ],
   "source": [
    "# Membagi data training-testing (xt diganti df)\n",
    "n_train = round(len(df)*0.90) # jumlah data train 90% dan test 10%\n",
    "\n",
    "df_x = df.drop(['t+1'], 1)\n",
    "df_y = df['t+1']\n",
    "\n",
    "datasetx = np.array(df_x)\n",
    "datasety = np.array([df_y]).T\n",
    "\n",
    "X_train = datasetx[:n_train, :]\n",
    "y_train = datasety[:n_train]\n",
    "df_train = pd.concat([pd.DataFrame(X_train), pd.DataFrame(y_train)], axis=1, sort=True)\n",
    "train = np.array(df_train)\n",
    "\n",
    "X_test = datasetx[n_train:, :]\n",
    "y_test = datasety[n_train:]\n",
    "df_test = pd.concat([pd.DataFrame(X_test), pd.DataFrame(y_test)], axis=1, sort=True)\n",
    "test = np.array(df_test)\n",
    "\n",
    "print(\"Data train = \", train.shape)\n",
    "print(\"Data test = \", test.shape)"
   ]
  },
  {
   "cell_type": "code",
   "execution_count": null,
   "metadata": {},
   "outputs": [],
   "source": []
  },
  {
   "cell_type": "code",
   "execution_count": 11,
   "metadata": {},
   "outputs": [
    {
     "name": "stdout",
     "output_type": "stream",
     "text": [
      "Durasi waktunya: 0:00:08.933511\n"
     ]
    }
   ],
   "source": [
    "from datetime import datetime\n",
    "tic = datetime.now()\n",
    "\n",
    "## Training section\n",
    "Data_train = train\n",
    "N     = len(Data_train)  #Number of observation\n",
    "Ts    = Data_train.shape[1] - 1   # Time-steps\n",
    "Ni    = 1   # Input layer dimension\n",
    "Nh    = 7   # Hidden layer dimension\n",
    "No    = 1   # Output layer dimension\n",
    "\n",
    "epochs = 100\n",
    "alpha  = 1\n",
    "seed(2020)\n",
    "\n",
    "# initialize neural network weights\n",
    "W0    = randn(Ni,Nh)\n",
    "W1    = randn(Nh,No)\n",
    "Wh    = randn(Nh,Nh)\n",
    "\n",
    "dW0   = zeros_like(W0)\n",
    "dW1   = zeros_like(W1)\n",
    "dWh   = zeros_like(Wh)\n",
    "\n",
    "# Compute Sigmoid nonlinearity\n",
    "Sigmoid = lambda x: 1/(1+exp(-x))\n",
    "\n",
    "# Convert output of sigmoid function to its derivative\n",
    "dSigmoid = lambda x: x*(1-x)\n",
    "\n",
    "# training logic\n",
    "\n",
    "for n in range(epochs):    \n",
    "    overallError = 0\n",
    "    \n",
    "    deltas2 = []\n",
    "    S = []\n",
    "    ycap = []\n",
    "    S.append(zeros(Nh))\n",
    "    \n",
    "    for i in range(N):\n",
    "        for j in range(Ts):     \n",
    "            # Forward propagation\n",
    "            # generate input and output\n",
    "            X = atleast_2d(Data_train[i][j])\n",
    "            y = Data_train[i][j+1]\n",
    "            \n",
    "\n",
    "            # hidden layer (input + prev_hidden)\n",
    "            Z1 = X@W0 + S[-1]@Wh\n",
    "            A1 = Sigmoid(Z1)\n",
    "\n",
    "            # output layer (new binary representation)\n",
    "            Z2 = A1@W1\n",
    "            A2 = Sigmoid(Z2)\n",
    "            e = y - A2\n",
    "            deltas2.append(e*dSigmoid(A2))\n",
    "            overallError += abs(e[0])\n",
    "            S.append(copy.deepcopy(A1))\n",
    "            \n",
    "            \n",
    "            if n == epochs-1:\n",
    "                if j == 1:                              \n",
    "                    #print(\"Iterasi ke\", str(n+1) + \";\", \"y(t) asli:\", y, \"| y(t) prediksi:%7.4f\" %A2[0][0])\n",
    "                    ycap.append(A2[0][0])\n",
    "                    #if i == (N-1):\n",
    "                        #print(\"\",\"\")\n",
    "    \n",
    "        delta1fut = zeros(Nh)   #Prepare the derivative for the future\n",
    "    \n",
    "        # Backward propagation\n",
    "        k1 = Data_train.shape[1] - 3 # k1 = 0 (untuk input=2); k1=1 (untuk input=3); dst\n",
    "        k2 = k1+1 \n",
    "        for k in range(Ts):     \n",
    "            X  = atleast_2d(Data_train[i][-k-Ts+k1]) #Indexing the input data like we did before\n",
    "            A1 = S[-k-Ts+k2]            #Selecting the current hidden layer\n",
    "            Sprev = S[-k-Ts+k1]        #Selecting the previous hidden layer\n",
    "        \n",
    "            # error at output layer\n",
    "            delta2 = deltas2[-k-1]      #Selecting the current output error\n",
    "        \n",
    "            # error at hidden layer\n",
    "            delta1 = (delta1fut@Wh.T + delta2@W1.T)*dSigmoid(A1)\n",
    "\n",
    "            # let's update all our weights so we can try again\n",
    "            dW1 += atleast_2d(A1).T@delta2\n",
    "            dWh += atleast_2d(Sprev).T@delta1\n",
    "            dW0 += X.T@delta1\n",
    "        \n",
    "            delta1fut = delta1\n",
    "    \n",
    "        W0 += alpha*dW0\n",
    "        W1 += alpha*dW1\n",
    "        Wh += alpha*dWh\n",
    "\n",
    "        dW0 *= 0\n",
    "        dW1 *= 0\n",
    "        dWh *= 0\n",
    "        \n",
    "toc = datetime.now()\n",
    "\n",
    "print('Durasi waktunya:',toc-tic)"
   ]
  },
  {
   "cell_type": "code",
   "execution_count": 12,
   "metadata": {
    "colab": {
     "base_uri": "https://localhost:8080/",
     "height": 281
    },
    "colab_type": "code",
    "id": "lPgIS5sSFkjd",
    "outputId": "0d1b270b-f8bc-41fd-c5e6-9896e22b8f3d"
   },
   "outputs": [
    {
     "name": "stdout",
     "output_type": "stream",
     "text": [
      "Akurasi prediksi data train diukur dengan MSE: 0.0716636\n"
     ]
    }
   ],
   "source": [
    "cost_train = (y_train-np.array(ycap)).T@(y_train-np.array(ycap))/N #Mean Squared Error (MSE) atau cost function\n",
    "print (\"Akurasi prediksi data train diukur dengan MSE: %9.7f\" %cost_train[0][0])"
   ]
  },
  {
   "cell_type": "code",
   "execution_count": 13,
   "metadata": {},
   "outputs": [],
   "source": [
    "# Prediksi data test\n",
    "N     = len(X_test)\n",
    "Data_train = test\n",
    "\n",
    "for n in range(epochs):    \n",
    "    overallError = 0\n",
    "    \n",
    "    deltas2 = []\n",
    "    S = []\n",
    "    ycap2 = []\n",
    "    S.append(zeros(Nh))\n",
    "    \n",
    "    for i in range(N):\n",
    "        for j in range(Ts):     \n",
    "            # Forward propagation\n",
    "            # generate input and output\n",
    "            X = atleast_2d(Data_train[i][j])\n",
    "            y = Data_train[i][j+1]\n",
    "            \n",
    "\n",
    "            # hidden layer (input + prev_hidden)\n",
    "            Z1 = X@W0 + S[-1]@Wh\n",
    "            A1 = Sigmoid(Z1)\n",
    "\n",
    "            # output layer (new binary representation)\n",
    "            Z2 = A1@W1\n",
    "            A2 = Sigmoid(Z2)\n",
    "            e = y - A2\n",
    "            deltas2.append(e*dSigmoid(A2))\n",
    "            overallError += abs(e[0])\n",
    "            S.append(copy.deepcopy(A1))\n",
    "            \n",
    "            \n",
    "            if n == epochs-1:\n",
    "                if j == 1:                              \n",
    "                    #print(\"Iterasi ke\", str(n+1) + \";\", \"y(t) asli:\", y, \"| y(t) prediksi:%7.4f\" %A2[0][0])\n",
    "                    ycap2.append(A2[0][0])\n",
    "                    #if i == (N-1):\n",
    "                        #print(\"\",\"\")"
   ]
  },
  {
   "cell_type": "code",
   "execution_count": 14,
   "metadata": {
    "colab": {
     "base_uri": "https://localhost:8080/",
     "height": 1000
    },
    "colab_type": "code",
    "id": "A-S-wPCLrufk",
    "outputId": "888718b1-cbf7-4908-995f-fabf6e72854c"
   },
   "outputs": [
    {
     "name": "stdout",
     "output_type": "stream",
     "text": [
      "Akurasi prediksi data test diukur dengan MSE: 0.0294576\n"
     ]
    }
   ],
   "source": [
    "N = y_test.shape[0]\n",
    "cost_test = (y_test-np.array(ycap2)).T@(y_test-np.array(ycap2))/N #Mean Squared Error (MSE) atau cost function\n",
    "print (\"Akurasi prediksi data test diukur dengan MSE: %9.7f\" %cost_test[0][0]) # "
   ]
  },
  {
   "cell_type": "code",
   "execution_count": 15,
   "metadata": {},
   "outputs": [],
   "source": [
    "#revert\n",
    "ytrain_pred = (np.array(ycap) * (x.max()-x.min())) + x.min()\n",
    "ytrain_act = (y_train * (x.max()-x.min())) + x.min()\n",
    "\n",
    "ytest_pred = (np.array(ycap2) * (x.max()-x.min())) + x.min()\n",
    "ytest_act = (y_test * (x.max()-x.min())) + x.min()"
   ]
  },
  {
   "cell_type": "code",
   "execution_count": 16,
   "metadata": {},
   "outputs": [
    {
     "data": {
      "image/png": "[encoded data removed]",
      "text/plain": [
       "<Figure size 432x288 with 1 Axes>"
      ]
     },
     "metadata": {
      "needs_background": "light"
     },
     "output_type": "display_data"
    }
   ],
   "source": [
    "plt.plot(ytrain_act, label='Data train asli')\n",
    "plt.plot(ytrain_pred, label='Prediksi data train')\n",
    "plt.legend()\n",
    "plt.show()"
   ]
  },
  {
   "cell_type": "code",
   "execution_count": 17,
   "metadata": {},
   "outputs": [
    {
     "data": {
      "image/png": "[encoded data removed]",
      "text/plain": [
       "<Figure size 432x288 with 1 Axes>"
      ]
     },
     "metadata": {
      "needs_background": "light"
     },
     "output_type": "display_data"
    }
   ],
   "source": [
    "plt.plot(ytest_act, label='Data test asli')\n",
    "plt.plot(ytest_pred, label='Prediksi data test')\n",
    "plt.legend()\n",
    "plt.show()"
   ]
  },
  {
   "cell_type": "code",
   "execution_count": null,
   "metadata": {},
   "outputs": [],
   "source": []
  }
 ],
 "metadata": {
  "colab": {
   "collapsed_sections": [],
   "name": "RNN - Tugas DL 2 [WORKED].ipynb",
   "provenance": []
  },
  "kernelspec": {
   "display_name": "Python 3",
   "language": "python",
   "name": "python3"
  },
  "language_info": {
   "codemirror_mode": {
    "name": "ipython",
    "version": 3
   },
   "file_extension": ".py",
   "mimetype": "text/x-python",
   "name": "python",
   "nbconvert_exporter": "python",
   "pygments_lexer": "ipython3",
   "version": "3.6.5"
  }
 },
 "nbformat": 4,
 "nbformat_minor": 4
}
