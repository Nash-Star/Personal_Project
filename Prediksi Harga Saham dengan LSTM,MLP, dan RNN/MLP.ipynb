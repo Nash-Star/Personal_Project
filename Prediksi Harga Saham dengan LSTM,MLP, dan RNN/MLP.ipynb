{
 "cells": [
  {
   "cell_type": "code",
   "execution_count": 1,
   "metadata": {
    "colab": {},
    "colab_type": "code",
    "id": "6vsfEB7QzSI3"
   },
   "outputs": [],
   "source": [
    "import numpy as np\n",
    "import pandas as pd\n",
    "from numpy import *\n",
    "from numpy.random import *\n",
    "import matplotlib.pyplot as plt\n",
    "from datetime import datetime\n",
    "import pickle\n",
    "from datetime import datetime\n",
    "\n",
    "%matplotlib inline\n",
    "\n",
    "import warnings\n",
    "warnings.filterwarnings(\"ignore\")"
   ]
  },
  {
   "cell_type": "code",
   "execution_count": 2,
   "metadata": {
    "colab": {
     "base_uri": "https://localhost:8080/",
     "height": 54
    },
    "colab_type": "code",
    "id": "dYmtBHk3zSJE",
    "outputId": "e37dad53-075e-4dd5-bbe8-fa6c05effdaa"
   },
   "outputs": [
    {
     "data": {
      "text/html": [
       "<div>\n",
       "<style scoped>\n",
       "    .dataframe tbody tr th:only-of-type {\n",
       "        vertical-align: middle;\n",
       "    }\n",
       "\n",
       "    .dataframe tbody tr th {\n",
       "        vertical-align: top;\n",
       "    }\n",
       "\n",
       "    .dataframe thead th {\n",
       "        text-align: right;\n",
       "    }\n",
       "</style>\n",
       "<table border=\"1\" class=\"dataframe\">\n",
       "  <thead>\n",
       "    <tr style=\"text-align: right;\">\n",
       "      <th></th>\n",
       "      <th>0</th>\n",
       "    </tr>\n",
       "  </thead>\n",
       "  <tbody>\n",
       "    <tr>\n",
       "      <td>0</td>\n",
       "      <td>130.883893</td>\n",
       "    </tr>\n",
       "    <tr>\n",
       "      <td>1</td>\n",
       "      <td>131.079758</td>\n",
       "    </tr>\n",
       "    <tr>\n",
       "      <td>2</td>\n",
       "      <td>131.437295</td>\n",
       "    </tr>\n",
       "    <tr>\n",
       "      <td>3</td>\n",
       "      <td>129.094033</td>\n",
       "    </tr>\n",
       "    <tr>\n",
       "      <td>4</td>\n",
       "      <td>128.009200</td>\n",
       "    </tr>\n",
       "  </tbody>\n",
       "</table>\n",
       "</div>"
      ],
      "text/plain": [
       "            0\n",
       "0  130.883893\n",
       "1  131.079758\n",
       "2  131.437295\n",
       "3  129.094033\n",
       "4  128.009200"
      ]
     },
     "execution_count": 2,
     "metadata": {},
     "output_type": "execute_result"
    }
   ],
   "source": [
    "# load dataset\n",
    "x = pickle.load(open(\"HargaSaham.dat\", \"rb\"))   # data harga saham sebanyak 250 observasi.\n",
    "N = x.shape[0]\n",
    "\n",
    "pd.DataFrame(x).head()"
   ]
  },
  {
   "cell_type": "code",
   "execution_count": 3,
   "metadata": {},
   "outputs": [
    {
     "data": {
      "text/html": [
       "<div>\n",
       "<style scoped>\n",
       "    .dataframe tbody tr th:only-of-type {\n",
       "        vertical-align: middle;\n",
       "    }\n",
       "\n",
       "    .dataframe tbody tr th {\n",
       "        vertical-align: top;\n",
       "    }\n",
       "\n",
       "    .dataframe thead th {\n",
       "        text-align: right;\n",
       "    }\n",
       "</style>\n",
       "<table border=\"1\" class=\"dataframe\">\n",
       "  <thead>\n",
       "    <tr style=\"text-align: right;\">\n",
       "      <th></th>\n",
       "      <th>0</th>\n",
       "    </tr>\n",
       "  </thead>\n",
       "  <tbody>\n",
       "    <tr>\n",
       "      <td>count</td>\n",
       "      <td>250.000000</td>\n",
       "    </tr>\n",
       "    <tr>\n",
       "      <td>mean</td>\n",
       "      <td>129.893804</td>\n",
       "    </tr>\n",
       "    <tr>\n",
       "      <td>std</td>\n",
       "      <td>4.141466</td>\n",
       "    </tr>\n",
       "    <tr>\n",
       "      <td>min</td>\n",
       "      <td>120.302504</td>\n",
       "    </tr>\n",
       "    <tr>\n",
       "      <td>25%</td>\n",
       "      <td>126.764918</td>\n",
       "    </tr>\n",
       "    <tr>\n",
       "      <td>50%</td>\n",
       "      <td>129.791001</td>\n",
       "    </tr>\n",
       "    <tr>\n",
       "      <td>75%</td>\n",
       "      <td>132.864101</td>\n",
       "    </tr>\n",
       "    <tr>\n",
       "      <td>max</td>\n",
       "      <td>139.100095</td>\n",
       "    </tr>\n",
       "  </tbody>\n",
       "</table>\n",
       "</div>"
      ],
      "text/plain": [
       "                0\n",
       "count  250.000000\n",
       "mean   129.893804\n",
       "std      4.141466\n",
       "min    120.302504\n",
       "25%    126.764918\n",
       "50%    129.791001\n",
       "75%    132.864101\n",
       "max    139.100095"
      ]
     },
     "execution_count": 3,
     "metadata": {},
     "output_type": "execute_result"
    }
   ],
   "source": [
    "pd.DataFrame(x).describe()"
   ]
  },
  {
   "cell_type": "code",
   "execution_count": 4,
   "metadata": {
    "colab": {
     "base_uri": "https://localhost:8080/",
     "height": 359
    },
    "colab_type": "code",
    "id": "BVRiHQrozSJT",
    "outputId": "b2340370-91a8-4bee-8b49-1ea6c805e9ab"
   },
   "outputs": [
    {
     "data": {
      "image/png": "[encoded data removed]",
      "text/plain": [
       "<Figure size 648x432 with 1 Axes>"
      ]
     },
     "metadata": {
      "needs_background": "light"
     },
     "output_type": "display_data"
    }
   ],
   "source": [
    "# Plot data\n",
    "plt.figure(figsize=(9,6))\n",
    "plt.plot(x)\n",
    "plt.title(\"Data Harga Saham\")\n",
    "plt.show()"
   ]
  },
  {
   "cell_type": "code",
   "execution_count": 5,
   "metadata": {},
   "outputs": [
    {
     "data": {
      "text/plain": [
       "(248, 2)"
      ]
     },
     "execution_count": 5,
     "metadata": {},
     "output_type": "execute_result"
    }
   ],
   "source": [
    "# Standarisasi\n",
    "xs = (x-x.min())/(x.max()-x.min())   # Standarisasi data\n",
    "\n",
    "step = 2   # step atau lag data diwaktu sebelumnya sebagai input\n",
    "xt = xs[0:N-step,:]\n",
    "for i in range(step):\n",
    "    xt = hstack((xt, xs[i+1:N-step+i+1]))   # Dihasilkan matriks dengan (n_step+1) kolom, #n_step kolom pertama\n",
    "                                            #menjadi variabel X dan kolom terkhir menjadi variabel y\n",
    "\n",
    "# membagi data input-output\n",
    "X = xt[:, 0:step]       #Tiga kolom pertama dijadikan sebagai varibel X\n",
    "y = xt[:, step:step+1]  #Kolom terakhir dijadikan sebagai variabel y\n",
    "\n",
    "X.shape        "
   ]
  },
  {
   "cell_type": "code",
   "execution_count": 6,
   "metadata": {},
   "outputs": [
    {
     "data": {
      "text/html": [
       "<div>\n",
       "<style scoped>\n",
       "    .dataframe tbody tr th:only-of-type {\n",
       "        vertical-align: middle;\n",
       "    }\n",
       "\n",
       "    .dataframe tbody tr th {\n",
       "        vertical-align: top;\n",
       "    }\n",
       "\n",
       "    .dataframe thead th {\n",
       "        text-align: right;\n",
       "    }\n",
       "</style>\n",
       "<table border=\"1\" class=\"dataframe\">\n",
       "  <thead>\n",
       "    <tr style=\"text-align: right;\">\n",
       "      <th></th>\n",
       "      <th>t-1</th>\n",
       "      <th>t</th>\n",
       "      <th>t+1</th>\n",
       "    </tr>\n",
       "  </thead>\n",
       "  <tbody>\n",
       "    <tr>\n",
       "      <td>0</td>\n",
       "      <td>0.562912</td>\n",
       "      <td>0.573332</td>\n",
       "      <td>0.592352</td>\n",
       "    </tr>\n",
       "    <tr>\n",
       "      <td>1</td>\n",
       "      <td>0.573332</td>\n",
       "      <td>0.592352</td>\n",
       "      <td>0.467694</td>\n",
       "    </tr>\n",
       "    <tr>\n",
       "      <td>2</td>\n",
       "      <td>0.592352</td>\n",
       "      <td>0.467694</td>\n",
       "      <td>0.409983</td>\n",
       "    </tr>\n",
       "    <tr>\n",
       "      <td>3</td>\n",
       "      <td>0.467694</td>\n",
       "      <td>0.409983</td>\n",
       "      <td>0.439758</td>\n",
       "    </tr>\n",
       "    <tr>\n",
       "      <td>4</td>\n",
       "      <td>0.409983</td>\n",
       "      <td>0.439758</td>\n",
       "      <td>0.489736</td>\n",
       "    </tr>\n",
       "  </tbody>\n",
       "</table>\n",
       "</div>"
      ],
      "text/plain": [
       "        t-1         t       t+1\n",
       "0  0.562912  0.573332  0.592352\n",
       "1  0.573332  0.592352  0.467694\n",
       "2  0.592352  0.467694  0.409983\n",
       "3  0.467694  0.409983  0.439758\n",
       "4  0.409983  0.439758  0.489736"
      ]
     },
     "execution_count": 6,
     "metadata": {},
     "output_type": "execute_result"
    }
   ],
   "source": [
    "# Menjadikan dataframe\n",
    "dfx = pd.DataFrame(X, columns=['t-1','t'])\n",
    "dfy = pd.DataFrame(y, columns=['t+1'])\n",
    "df = pd. concat([dfx,dfy], axis=1, sort=True)\n",
    "df.head()"
   ]
  },
  {
   "cell_type": "code",
   "execution_count": 7,
   "metadata": {},
   "outputs": [
    {
     "data": {
      "text/html": [
       "<div>\n",
       "<style scoped>\n",
       "    .dataframe tbody tr th:only-of-type {\n",
       "        vertical-align: middle;\n",
       "    }\n",
       "\n",
       "    .dataframe tbody tr th {\n",
       "        vertical-align: top;\n",
       "    }\n",
       "\n",
       "    .dataframe thead th {\n",
       "        text-align: right;\n",
       "    }\n",
       "</style>\n",
       "<table border=\"1\" class=\"dataframe\">\n",
       "  <thead>\n",
       "    <tr style=\"text-align: right;\">\n",
       "      <th></th>\n",
       "      <th>t-1</th>\n",
       "      <th>t</th>\n",
       "      <th>t+1</th>\n",
       "      <th>rm3</th>\n",
       "      <th>rm7</th>\n",
       "    </tr>\n",
       "  </thead>\n",
       "  <tbody>\n",
       "    <tr>\n",
       "      <td>0</td>\n",
       "      <td>0.562912</td>\n",
       "      <td>0.573332</td>\n",
       "      <td>0.592352</td>\n",
       "      <td>NaN</td>\n",
       "      <td>NaN</td>\n",
       "    </tr>\n",
       "    <tr>\n",
       "      <td>1</td>\n",
       "      <td>0.573332</td>\n",
       "      <td>0.592352</td>\n",
       "      <td>0.467694</td>\n",
       "      <td>NaN</td>\n",
       "      <td>NaN</td>\n",
       "    </tr>\n",
       "    <tr>\n",
       "      <td>2</td>\n",
       "      <td>0.592352</td>\n",
       "      <td>0.467694</td>\n",
       "      <td>0.409983</td>\n",
       "      <td>0.490010</td>\n",
       "      <td>NaN</td>\n",
       "    </tr>\n",
       "    <tr>\n",
       "      <td>3</td>\n",
       "      <td>0.467694</td>\n",
       "      <td>0.409983</td>\n",
       "      <td>0.439758</td>\n",
       "      <td>0.439145</td>\n",
       "      <td>NaN</td>\n",
       "    </tr>\n",
       "    <tr>\n",
       "      <td>4</td>\n",
       "      <td>0.409983</td>\n",
       "      <td>0.439758</td>\n",
       "      <td>0.489736</td>\n",
       "      <td>0.446493</td>\n",
       "      <td>NaN</td>\n",
       "    </tr>\n",
       "    <tr>\n",
       "      <td>5</td>\n",
       "      <td>0.439758</td>\n",
       "      <td>0.489736</td>\n",
       "      <td>0.437683</td>\n",
       "      <td>0.455726</td>\n",
       "      <td>NaN</td>\n",
       "    </tr>\n",
       "    <tr>\n",
       "      <td>6</td>\n",
       "      <td>0.489736</td>\n",
       "      <td>0.437683</td>\n",
       "      <td>0.464447</td>\n",
       "      <td>0.463955</td>\n",
       "      <td>0.471665</td>\n",
       "    </tr>\n",
       "    <tr>\n",
       "      <td>7</td>\n",
       "      <td>0.437683</td>\n",
       "      <td>0.464447</td>\n",
       "      <td>0.486067</td>\n",
       "      <td>0.462732</td>\n",
       "      <td>0.456481</td>\n",
       "    </tr>\n",
       "    <tr>\n",
       "      <td>8</td>\n",
       "      <td>0.464447</td>\n",
       "      <td>0.486067</td>\n",
       "      <td>0.503275</td>\n",
       "      <td>0.484596</td>\n",
       "      <td>0.461564</td>\n",
       "    </tr>\n",
       "    <tr>\n",
       "      <td>9</td>\n",
       "      <td>0.486067</td>\n",
       "      <td>0.503275</td>\n",
       "      <td>0.477026</td>\n",
       "      <td>0.488789</td>\n",
       "      <td>0.471142</td>\n",
       "    </tr>\n",
       "  </tbody>\n",
       "</table>\n",
       "</div>"
      ],
      "text/plain": [
       "        t-1         t       t+1       rm3       rm7\n",
       "0  0.562912  0.573332  0.592352       NaN       NaN\n",
       "1  0.573332  0.592352  0.467694       NaN       NaN\n",
       "2  0.592352  0.467694  0.409983  0.490010       NaN\n",
       "3  0.467694  0.409983  0.439758  0.439145       NaN\n",
       "4  0.409983  0.439758  0.489736  0.446493       NaN\n",
       "5  0.439758  0.489736  0.437683  0.455726       NaN\n",
       "6  0.489736  0.437683  0.464447  0.463955  0.471665\n",
       "7  0.437683  0.464447  0.486067  0.462732  0.456481\n",
       "8  0.464447  0.486067  0.503275  0.484596  0.461564\n",
       "9  0.486067  0.503275  0.477026  0.488789  0.471142"
      ]
     },
     "execution_count": 7,
     "metadata": {},
     "output_type": "execute_result"
    }
   ],
   "source": [
    "# menambahkan rolling mean\n",
    "df['rm3'] = df['t+1'].rolling(window=3).mean() #pd.DataFrame(xs).rolling(window=3).mean()\n",
    "df['rm7'] = df['t+1'].rolling(window=7).mean() #pd.DataFrame(xs).rolling(window=9).mean()\n",
    "#df['rm18'] = pd.DataFrame(xs).rolling(window=18).mean()\n",
    "#df['rm6'] = pd.DataFrame(xs).rolling(window=6).mean()\n",
    "\n",
    "df.head(10)"
   ]
  },
  {
   "cell_type": "code",
   "execution_count": 8,
   "metadata": {},
   "outputs": [
    {
     "data": {
      "text/html": [
       "<div>\n",
       "<style scoped>\n",
       "    .dataframe tbody tr th:only-of-type {\n",
       "        vertical-align: middle;\n",
       "    }\n",
       "\n",
       "    .dataframe tbody tr th {\n",
       "        vertical-align: top;\n",
       "    }\n",
       "\n",
       "    .dataframe thead th {\n",
       "        text-align: right;\n",
       "    }\n",
       "</style>\n",
       "<table border=\"1\" class=\"dataframe\">\n",
       "  <thead>\n",
       "    <tr style=\"text-align: right;\">\n",
       "      <th></th>\n",
       "      <th>t-1</th>\n",
       "      <th>t</th>\n",
       "      <th>t+1</th>\n",
       "      <th>rm3</th>\n",
       "      <th>rm7</th>\n",
       "    </tr>\n",
       "  </thead>\n",
       "  <tbody>\n",
       "    <tr>\n",
       "      <td>6</td>\n",
       "      <td>0.489736</td>\n",
       "      <td>0.437683</td>\n",
       "      <td>0.464447</td>\n",
       "      <td>0.463955</td>\n",
       "      <td>0.471665</td>\n",
       "    </tr>\n",
       "    <tr>\n",
       "      <td>7</td>\n",
       "      <td>0.437683</td>\n",
       "      <td>0.464447</td>\n",
       "      <td>0.486067</td>\n",
       "      <td>0.462732</td>\n",
       "      <td>0.456481</td>\n",
       "    </tr>\n",
       "    <tr>\n",
       "      <td>8</td>\n",
       "      <td>0.464447</td>\n",
       "      <td>0.486067</td>\n",
       "      <td>0.503275</td>\n",
       "      <td>0.484596</td>\n",
       "      <td>0.461564</td>\n",
       "    </tr>\n",
       "    <tr>\n",
       "      <td>9</td>\n",
       "      <td>0.486067</td>\n",
       "      <td>0.503275</td>\n",
       "      <td>0.477026</td>\n",
       "      <td>0.488789</td>\n",
       "      <td>0.471142</td>\n",
       "    </tr>\n",
       "    <tr>\n",
       "      <td>10</td>\n",
       "      <td>0.503275</td>\n",
       "      <td>0.477026</td>\n",
       "      <td>0.434892</td>\n",
       "      <td>0.471731</td>\n",
       "      <td>0.470447</td>\n",
       "    </tr>\n",
       "    <tr>\n",
       "      <td>11</td>\n",
       "      <td>0.477026</td>\n",
       "      <td>0.434892</td>\n",
       "      <td>0.390080</td>\n",
       "      <td>0.433999</td>\n",
       "      <td>0.456210</td>\n",
       "    </tr>\n",
       "    <tr>\n",
       "      <td>12</td>\n",
       "      <td>0.434892</td>\n",
       "      <td>0.390080</td>\n",
       "      <td>0.322012</td>\n",
       "      <td>0.382328</td>\n",
       "      <td>0.439686</td>\n",
       "    </tr>\n",
       "    <tr>\n",
       "      <td>13</td>\n",
       "      <td>0.390080</td>\n",
       "      <td>0.322012</td>\n",
       "      <td>0.335084</td>\n",
       "      <td>0.349059</td>\n",
       "      <td>0.421205</td>\n",
       "    </tr>\n",
       "    <tr>\n",
       "      <td>14</td>\n",
       "      <td>0.322012</td>\n",
       "      <td>0.335084</td>\n",
       "      <td>0.332733</td>\n",
       "      <td>0.329943</td>\n",
       "      <td>0.399300</td>\n",
       "    </tr>\n",
       "    <tr>\n",
       "      <td>15</td>\n",
       "      <td>0.335084</td>\n",
       "      <td>0.332733</td>\n",
       "      <td>0.416128</td>\n",
       "      <td>0.361315</td>\n",
       "      <td>0.386851</td>\n",
       "    </tr>\n",
       "  </tbody>\n",
       "</table>\n",
       "</div>"
      ],
      "text/plain": [
       "         t-1         t       t+1       rm3       rm7\n",
       "6   0.489736  0.437683  0.464447  0.463955  0.471665\n",
       "7   0.437683  0.464447  0.486067  0.462732  0.456481\n",
       "8   0.464447  0.486067  0.503275  0.484596  0.461564\n",
       "9   0.486067  0.503275  0.477026  0.488789  0.471142\n",
       "10  0.503275  0.477026  0.434892  0.471731  0.470447\n",
       "11  0.477026  0.434892  0.390080  0.433999  0.456210\n",
       "12  0.434892  0.390080  0.322012  0.382328  0.439686\n",
       "13  0.390080  0.322012  0.335084  0.349059  0.421205\n",
       "14  0.322012  0.335084  0.332733  0.329943  0.399300\n",
       "15  0.335084  0.332733  0.416128  0.361315  0.386851"
      ]
     },
     "execution_count": 8,
     "metadata": {},
     "output_type": "execute_result"
    }
   ],
   "source": [
    "# menghilangkan baris yang mengandung NaN dari dataframe\n",
    "df.dropna(inplace=True)\n",
    "df.head(10)"
   ]
  },
  {
   "cell_type": "code",
   "execution_count": 9,
   "metadata": {},
   "outputs": [
    {
     "data": {
      "text/plain": [
       "<matplotlib.legend.Legend at 0x905fb38>"
      ]
     },
     "execution_count": 9,
     "metadata": {},
     "output_type": "execute_result"
    },
    {
     "data": {
      "image/png": "[encoded data removed]",
      "text/plain": [
       "<Figure size 432x288 with 1 Axes>"
      ]
     },
     "metadata": {
      "needs_background": "light"
     },
     "output_type": "display_data"
    }
   ],
   "source": [
    "df.plot()\n",
    "plt.legend(loc='best')"
   ]
  },
  {
   "cell_type": "code",
   "execution_count": 10,
   "metadata": {},
   "outputs": [
    {
     "name": "stdout",
     "output_type": "stream",
     "text": [
      "x_train =  (218, 4)\n",
      "y_train =  (218, 1)\n",
      "x_test =  (24, 4)\n",
      "y_test =  (24, 1)\n"
     ]
    }
   ],
   "source": [
    "# Membagi data training-testing (xt diganti df)\n",
    "n_train = round(len(df)*0.90) # jumlah data train 90% dan test 10%\n",
    "\n",
    "df_x = df.drop(['t+1'], 1)\n",
    "df_y = df['t+1']\n",
    "\n",
    "datasetx = np.array(df_x)\n",
    "datasety = np.array([df_y]).T\n",
    "\n",
    "X_train = datasetx[:n_train, :]\n",
    "y_train = datasety[:n_train]\n",
    "print(\"x_train = \", X_train.shape)\n",
    "print(\"y_train = \", y_train.shape)\n",
    "\n",
    "X_test = datasetx[n_train:, :]\n",
    "y_test = datasety[n_train:]\n",
    "print(\"x_test = \", X_test.shape)\n",
    "print(\"y_test = \", y_test.shape)"
   ]
  },
  {
   "cell_type": "code",
   "execution_count": 11,
   "metadata": {
    "colab": {},
    "colab_type": "code",
    "id": "PFycVn7tzSJg"
   },
   "outputs": [],
   "source": [
    "class NeuralNetwork:\n",
    "    \n",
    "    def __init__(self,x,y,h1,h2): # ada h nodes di dalam hidden layer\n",
    "        self.X   = x #input\n",
    "        self.y   = y #output\n",
    "        \n",
    "        self.N   = x.shape[0] #jumlah observasi (samples, examples)\n",
    "        Ni       = x.shape[1] #jumlah features (variables)\n",
    "        No       = y.shape[1] \n",
    "        \n",
    "        self.W0  = randn(Ni,h1) #nilai awal buat W dari layer 0 (input layer)\n",
    "        self.b0  = zeros([1,h1]) #nilai awal buat b dari layer 0 (hidden layer)\n",
    "        \n",
    "        self.W1  = randn(h1,h2) #nilai awal buat W dari layer 1 (hidden layer)\n",
    "        self.b1  = zeros([1,h2]) #nilai awal buat b dari layer 1 (hidden layer)\n",
    "\n",
    "        self.W2  = randn(h2,No) #nilai awal buat W dari layer 2 (output layer)\n",
    "        self.b2  = zeros([1,No]) #nilai awal buat b dari layer 2 (output layer)\n",
    "        \n",
    "    def forward(self):\n",
    "        Z1       = self.X@self.W0 + self.b0\n",
    "        #self.A1  = 1/(1 + exp(-Z1))\n",
    "        self.A1 = (2/(1+exp(-2*Z1))) - 1 #TxH - Tanh\n",
    "        \n",
    "        Z2       = self.A1@self.W1 + self.b1\n",
    "        #self.A2  = 1/(1 + exp(-Z2))\n",
    "        self.A2 = (2/(1+exp(-2*Z2))) - 1 #TxH - Tanh\n",
    "        \n",
    "        Z3       = self.A2@self.W2 + self.b2\n",
    "        self.A3  = 1/(1 + exp(-Z3))\n",
    "        \n",
    "        return self.A3\n",
    "        \n",
    "    def backward(self):\n",
    "        alpha    = 0.01\n",
    "        e        = self.y - self.A3\n",
    "        \n",
    "        delta3   = -e*self.A3*(1 - self.A3) #dC/dZ3\n",
    "        #delta2   = delta3@self.W2.T*self.A2*(1 - self.A2) #dC/dZ2 - sigmoid\n",
    "        delta2   = delta3@self.W2.T*(1-self.A2**2) # delta_w1 - Tanh\n",
    "        #delta1   = delta2@self.W1.T*self.A1*(1 - self.A1) #dC/dZ1 - sigmoid\n",
    "        delta1   = delta2@self.W1.T*(1-self.A1**2) # delta_w0 - Tanh\n",
    "    \n",
    "        self.W2 -= alpha*self.A2.T@delta3\n",
    "        self.b2 -= alpha*sum(ones([self.N,1]).T@delta3)\n",
    "        \n",
    "        self.W1 -= alpha*self.A1.T@delta2\n",
    "        self.b1 -= alpha*ones([self.N,1]).T@delta2\n",
    "        \n",
    "        self.W0 -= alpha*self.X.T@delta1\n",
    "        self.b0 -= alpha*ones([self.N,1]).T@delta1\n",
    "\n",
    "    def train(self):\n",
    "        self.forward()  #forward propagation\n",
    "        self.backward() #backward propagation\n",
    "\n",
    "    def predict(self, xs):\n",
    "        self.X   = xs\n",
    "        #self.X  = xs/self.maxx\n",
    "        #self.X  = (xs - self.meanx)/self.stdx\n",
    "        \n",
    "        self.forward()\n",
    "        return self.A3        "
   ]
  },
  {
   "cell_type": "code",
   "execution_count": 12,
   "metadata": {
    "colab": {
     "base_uri": "https://localhost:8080/",
     "height": 204
    },
    "colab_type": "code",
    "id": "HtyURtmozSJq",
    "outputId": "a2b2d3b0-b742-4613-b22e-16656397e700"
   },
   "outputs": [
    {
     "name": "stdout",
     "output_type": "stream",
     "text": [
      "Iteration #: 0 , Akurasi prediksi diukur dengan MSE: 0.1488923\n",
      "Iteration #: 2500 , Akurasi prediksi diukur dengan MSE: 0.0010739\n",
      "Iteration #: 5000 , Akurasi prediksi diukur dengan MSE: 0.0007314\n",
      "Iteration #: 7500 , Akurasi prediksi diukur dengan MSE: 0.0005347\n",
      "Iteration #: 10000 , Akurasi prediksi diukur dengan MSE: 0.0004040\n",
      "Iteration #: 12500 , Akurasi prediksi diukur dengan MSE: 0.0003130\n",
      "Iteration #: 15000 , Akurasi prediksi diukur dengan MSE: 0.0002472\n",
      "Iteration #: 17500 , Akurasi prediksi diukur dengan MSE: 0.0001985\n",
      "Iteration #: 20000 , Akurasi prediksi diukur dengan MSE: 0.0001618\n",
      "Iteration #: 22500 , Akurasi prediksi diukur dengan MSE: 0.0001339\n",
      "Iteration #: 25000 , Akurasi prediksi diukur dengan MSE: 0.0001125\n",
      "\n",
      "Durasinya: 0:00:12.706727\n"
     ]
    }
   ],
   "source": [
    "H1  = 10  #ada H1 nodes (neurons) di dalam hidden layer pertama\n",
    "H2  = 10  #ada H2 nodes (neurons) di dalam hidden layer pertama\n",
    "\n",
    "epochs = 25001 #lakukan latihan sebanyak epochs kali\n",
    "seed(2020) #seed untuk bilangan acak\n",
    "\n",
    "ann = NeuralNetwork(X_train,y_train,H1,H2)\n",
    "\n",
    "tic = datetime.now()\n",
    "for i in range(epochs): \n",
    "    \n",
    "    if i % 2500 == 0: \n",
    "        print (\"Iteration #:\",i,', ',end = \"\")\n",
    "        #print (\"Predicted Output: \\n\", str(ann.forward()))\n",
    "        \n",
    "        ycap = ann.forward()\n",
    "        cost = (y_train-ycap).T@(y_train-ycap)/N #Mean Squared Error (MSE) atau cost function\n",
    "        \n",
    "        print (\"Akurasi prediksi diukur dengan MSE: %9.7f\" %cost[0][0]) # \n",
    "        #print (\"\\n\")\n",
    "\n",
    "    ann.train()\n",
    "\n",
    "toc = datetime.now()\n",
    "print('\\nDurasinya:',toc-tic)"
   ]
  },
  {
   "cell_type": "code",
   "execution_count": 13,
   "metadata": {
    "colab": {
     "base_uri": "https://localhost:8080/",
     "height": 34
    },
    "colab_type": "code",
    "id": "lCMLZu8izSJ0",
    "outputId": "4da9802e-6793-4052-ae99-fc0a86aceba6"
   },
   "outputs": [
    {
     "name": "stdout",
     "output_type": "stream",
     "text": [
      "Akurasi prediksi data test diukur dengan MSE: 0.0000832\n"
     ]
    }
   ],
   "source": [
    "# Prediksi\n",
    "N = y_test.shape[0]\n",
    "ycap2 = ann.predict(X_test) # data test\n",
    "cost_test = (y_test-ycap2).T@(y_test-ycap2)/N #Mean Squared Error (MSE) atau cost function\n",
    "print (\"Akurasi prediksi data test diukur dengan MSE: %9.7f\" %cost_test[0][0]) # "
   ]
  },
  {
   "cell_type": "code",
   "execution_count": 14,
   "metadata": {},
   "outputs": [],
   "source": [
    "#revert\n",
    "ytrain_pred = (ycap * (x.max()-x.min())) + x.min()\n",
    "ytrain_act = (y_train * (x.max()-x.min())) + x.min()\n",
    "\n",
    "ytest_pred = (ycap2 * (x.max()-x.min())) + x.min()\n",
    "ytest_act = (y_test * (x.max()-x.min())) + x.min()"
   ]
  },
  {
   "cell_type": "code",
   "execution_count": 15,
   "metadata": {},
   "outputs": [
    {
     "data": {
      "image/png": "[encoded data removed]",
      "text/plain": [
       "<Figure size 432x288 with 1 Axes>"
      ]
     },
     "metadata": {
      "needs_background": "light"
     },
     "output_type": "display_data"
    }
   ],
   "source": [
    "plt.plot(ytrain_act, label='Data train asli')\n",
    "plt.plot(ytrain_pred, label='Prediksi data train')\n",
    "plt.legend()\n",
    "plt.show()"
   ]
  },
  {
   "cell_type": "code",
   "execution_count": 16,
   "metadata": {
    "colab": {
     "base_uri": "https://localhost:8080/",
     "height": 265
    },
    "colab_type": "code",
    "id": "wxuXuwgwPC20",
    "outputId": "ad4cd92e-7672-41c0-b145-d36cb06aab92"
   },
   "outputs": [
    {
     "data": {
      "image/png": "[encoded data removed]",
      "text/plain": [
       "<Figure size 432x288 with 1 Axes>"
      ]
     },
     "metadata": {
      "needs_background": "light"
     },
     "output_type": "display_data"
    }
   ],
   "source": [
    "plt.plot(ytest_pred, label='Data test asli')\n",
    "plt.plot(ytest_act, label='Prediksi data test')\n",
    "plt.legend()\n",
    "plt.show()"
   ]
  },
  {
   "cell_type": "code",
   "execution_count": 17,
   "metadata": {
    "colab": {},
    "colab_type": "code",
    "id": "FLDWtMYIPOWr"
   },
   "outputs": [
    {
     "data": {
      "text/plain": [
       "(218, 1)"
      ]
     },
     "execution_count": 17,
     "metadata": {},
     "output_type": "execute_result"
    }
   ],
   "source": [
    "y_train.shape"
   ]
  },
  {
   "cell_type": "code",
   "execution_count": null,
   "metadata": {},
   "outputs": [],
   "source": []
  }
 ],
 "metadata": {
  "colab": {
   "collapsed_sections": [],
   "name": "Tugas 2 Deep Learning Exp1.ipynb",
   "provenance": []
  },
  "kernelspec": {
   "display_name": "Python 3",
   "language": "python",
   "name": "python3"
  },
  "language_info": {
   "codemirror_mode": {
    "name": "ipython",
    "version": 3
   },
   "file_extension": ".py",
   "mimetype": "text/x-python",
   "name": "python",
   "nbconvert_exporter": "python",
   "pygments_lexer": "ipython3",
   "version": "3.6.5"
  }
 },
 "nbformat": 4,
 "nbformat_minor": 4
}
